{
 "cells": [
  {
   "cell_type": "code",
   "execution_count": 1,
   "metadata": {},
   "outputs": [],
   "source": [
    "from typing import NamedTuple\n",
    "\n",
    "import jax\n",
    "import jax.numpy as jnp\n",
    "import jaxopt\n",
    "from jax import grad, random\n",
    "\n",
    "from utils.dataset import load_mnist784\n",
    "from utils.tm import get_2d_tm"
   ]
  },
  {
   "cell_type": "code",
   "execution_count": 2,
   "metadata": {},
   "outputs": [],
   "source": [
    "class OracleParams(NamedTuple):\n",
    "  d: int # Problem size\n",
    "  n: int # Number of samples on server\n",
    "  T: int # Number of all samples \n",
    "  C: jnp.ndarray\n",
    "  q: jnp.ndarray"
   ]
  },
  {
   "cell_type": "code",
   "execution_count": 3,
   "metadata": {},
   "outputs": [
    {
     "name": "stderr",
     "output_type": "stream",
     "text": [
      "Platform 'METAL' is experimental and not all JAX functionality may be correctly supported!\n"
     ]
    },
    {
     "name": "stdout",
     "output_type": "stream",
     "text": [
      "Metal device set to: Apple M1 Pro\n",
      "\n",
      "systemMemory: 16.00 GB\n",
      "maxCacheSize: 5.33 GB\n",
      "\n"
     ]
    },
    {
     "name": "stderr",
     "output_type": "stream",
     "text": [
      "2024-01-31 17:01:56.152072: W pjrt_plugin/src/mps_client.cc:563] WARNING: JAX Apple GPU support is experimental and not all JAX functionality is correctly supported!\n"
     ]
    }
   ],
   "source": [
    "target_digit = 1\n",
    "data = jnp.array(load_mnist784(target_digit))"
   ]
  },
  {
   "cell_type": "code",
   "execution_count": 5,
   "metadata": {},
   "outputs": [],
   "source": [
    "T = 10\n",
    "n = T // 3 * 4\n",
    "d = 784\n",
    "key = random.PRNGKey(0)\n",
    "q = jax.random.choice(key, data, shape=(T,), replace=False)\n",
    "C = jnp.array(get_2d_tm(28))"
   ]
  },
  {
   "cell_type": "code",
   "execution_count": 6,
   "metadata": {},
   "outputs": [],
   "source": [
    "oracle_params = OracleParams(d, n, T, C, q)"
   ]
  },
  {
   "cell_type": "code",
   "execution_count": 7,
   "metadata": {},
   "outputs": [],
   "source": [
    "class PAUSParams(NamedTuple):\n",
    "    gamma: float\n",
    "    L_F1: float\n",
    "    composite_steps: int"
   ]
  },
  {
   "cell_type": "code",
   "execution_count": 8,
   "metadata": {},
   "outputs": [],
   "source": [
    "delta = 2 * (T - n) / T\n",
    "L_F1 = 2\n",
    "composite_steps = 100"
   ]
  },
  {
   "cell_type": "code",
   "execution_count": 9,
   "metadata": {},
   "outputs": [],
   "source": [
    "paus_params = PAUSParams(1 / delta, L_F1, composite_steps)"
   ]
  },
  {
   "cell_type": "code",
   "execution_count": 45,
   "metadata": {},
   "outputs": [],
   "source": [
    "from __future__ import annotations"
   ]
  },
  {
   "cell_type": "code",
   "execution_count": 52,
   "metadata": {},
   "outputs": [],
   "source": [
    "class Point(NamedTuple):\n",
    "    x: jnp.ndarray\n",
    "    p: jnp.ndarray\n",
    "    u: jnp.ndarray\n",
    "    v: jnp.ndarray\n",
    "\n",
    "    def __add__(self, z: Point) -> Point:\n",
    "        return Point(self.x + z.x, self.p + z.p, self.u + z.u, self.v + z.v)\n",
    "\n",
    "    def __sub__(self, z: Point) -> Point:\n",
    "        return Point(self.x - z.x, self.p - z.p, self.u - z.u, self.v - z.v)"
   ]
  },
  {
   "cell_type": "code",
   "execution_count": 11,
   "metadata": {},
   "outputs": [],
   "source": [
    "def init(oracle_params: OracleParams) -> Point:\n",
    "    d, T = oracle_params.d, oracle_params.T\n",
    "    x = jnp.array([jnp.ones((d, d)) / (d * d)] * T)\n",
    "    p = jnp.ones(d) / d\n",
    "    u = jnp.array([jnp.zeros(d)] * T)\n",
    "    v = jnp.array([jnp.zeros(d)] * T)\n",
    "\n",
    "    return Point(x, p, u, v)"
   ]
  },
  {
   "cell_type": "code",
   "execution_count": 12,
   "metadata": {},
   "outputs": [],
   "source": [
    "def f(x: jnp.ndarray, p: jnp.ndarray, u: jnp.ndarray, v: jnp.ndarray, C: jnp.ndarray, q: jnp.ndarray) -> jnp.ndarray:\n",
    "    \"\"\"\n",
    "    Computes the value of operator at point z = (x, C, p, q, u, v).\n",
    "\n",
    "    :param jnp.ndarray x: Shape (d, d).\n",
    "    :param jnp.ndarray p: Shape (d, ).\n",
    "    :param jnp.ndarray u: Shape (d, ).\n",
    "    :param jnp.ndarray v: Shape (d, ).\n",
    "    :param jnp.ndarray C: Shape (d, d).\n",
    "    :param jnp.ndarray q: Shape (d, ).\n",
    "    :return jnp.ndarray: float\n",
    "    \"\"\"\n",
    "    C_norm = jnp.max(jnp.abs(C))\n",
    "    return jnp.multiply(C, x).sum() + 2 * C_norm * (jnp.dot(u, x.sum(axis=-1) - p) + jnp.dot(v, x.sum(axis=-2) - q))"
   ]
  },
  {
   "cell_type": "code",
   "execution_count": 13,
   "metadata": {},
   "outputs": [],
   "source": [
    "def f_batched(x: jnp.ndarray, p: jnp.ndarray, u: jnp.ndarray, v: jnp.ndarray, C: jnp.ndarray, q: jnp.ndarray) -> jnp.ndarray:\n",
    "    f_vmap = jax.vmap(f, in_axes=(0, None, 0, 0, None, 0))\n",
    "\n",
    "    return f_vmap(x, p, u, v, C, q).sum()"
   ]
  },
  {
   "cell_type": "code",
   "execution_count": 14,
   "metadata": {},
   "outputs": [],
   "source": [
    "gradient = jax.jit(grad(f_batched, argnums=(0, 1, 2, 3)))"
   ]
  },
  {
   "cell_type": "code",
   "execution_count": 25,
   "metadata": {},
   "outputs": [],
   "source": [
    "grad_x, grad_p, grad_u, grad_v = gradient(z_k.x, z_k.p, z_k.u, z_k.v, oracle_params.C, oracle_params.q)"
   ]
  },
  {
   "cell_type": "code",
   "execution_count": 29,
   "metadata": {},
   "outputs": [],
   "source": [
    "def oracle(z: Point, oracle_params: OracleParams) -> tuple[Point, Point]:\n",
    "    grad_x, grad_p, grad_u, grad_v = gradient(z.x, z.p, z.u, z.v, oracle_params.C, oracle_params.q)\n",
    "    return Point(\n",
    "        jnp.sum(grad_x, axis=0) / oracle_params.T,\n",
    "        jnp.sum(grad_p, axis=0) / oracle_params.T,\n",
    "        jnp.sum(-grad_u, axis=0) / oracle_params.T,\n",
    "        jnp.sum(-grad_v, axis=0) / oracle_params.T,\n",
    "    ), Point(\n",
    "        jnp.sum(grad_x[: oracle_params.n], axis=0) / oracle_params.n,\n",
    "        jnp.sum(grad_p[: oracle_params.n], axis=0) / oracle_params.n,\n",
    "        jnp.sum(-grad_u[: oracle_params.n], axis=0) / oracle_params.n,\n",
    "        jnp.sum(-grad_v[: oracle_params.n], axis=0) / oracle_params.n,\n",
    "    )"
   ]
  },
  {
   "cell_type": "code",
   "execution_count": 56,
   "metadata": {},
   "outputs": [],
   "source": [
    "def projection_simplex(x: jnp.ndarray) -> jnp.ndarray:\n",
    "    orig_shape = x.shape\n",
    "    return jaxopt.projection.projection_simplex(x.flatten()).reshape(orig_shape)"
   ]
  },
  {
   "cell_type": "code",
   "execution_count": 57,
   "metadata": {},
   "outputs": [],
   "source": [
    "projection_simplex_vmap = jax.vmap(projection_simplex, in_axes=(0,))"
   ]
  },
  {
   "cell_type": "code",
   "execution_count": 38,
   "metadata": {},
   "outputs": [],
   "source": [
    "def update_composite_MP(\n",
    "    z_k: Point, v_t: Point, G_z_k: Point, oracle_params: OracleParams, gamma: float, eta: float\n",
    ") -> Point:\n",
    "    _, F1_v_t = oracle(v_t, oracle_params)\n",
    "    G_t = F1_v_t + G_z_k\n",
    "    v_t_next = Point(\n",
    "        projection_simplex_vmap(z_k.x * jnp.power(jnp.exp(-gamma * eta * G_t.x) * v_t.x / z_k.x, 1 / (eta + 1))),\n",
    "        jaxopt.projection.projection_simplex(\n",
    "            z_k.p * jnp.power(jnp.exp(-gamma * eta * G_t.p) * v_t.p / z_k.p, 1 / (eta + 1))\n",
    "        ),\n",
    "        jaxopt.projection.projection_linf_ball(0.5 * (z_k.u + v_t.u - gamma * eta * G_t.u)),\n",
    "        jaxopt.projection.projection_linf_ball(0.5 * (z_k.v + v_t.v - gamma * eta * G_t.v)),\n",
    "    )\n",
    "\n",
    "    G_t_next = oracle(v_t_next, oracle_params) + G_z_k\n",
    "    v_t = Point(\n",
    "        projection_simplex_vmap(z_k.x * jnp.power(jnp.exp(-gamma * eta * G_t_next.x) * v_t.x / z_k.x, 1 / (eta + 1))),\n",
    "        jaxopt.projection.projection_simplex(\n",
    "            z_k.p * jnp.power(jnp.exp(-gamma * eta * G_t_next.p) * v_t.p / z_k.p, 1 / (eta + 1))\n",
    "        ),\n",
    "        jaxopt.projection.projection_linf_ball(0.5 * (z_k.u + v_t.u - gamma * eta * G_t.u)),\n",
    "        jaxopt.projection.projection_linf_ball(0.5 * (z_k.v + v_t.v - gamma * eta * G_t.v)),\n",
    "    )\n",
    "    return v_t"
   ]
  },
  {
   "cell_type": "code",
   "execution_count": 49,
   "metadata": {},
   "outputs": [],
   "source": [
    "def update_paus(z_k: Point, u_k: Point, oracle_params: OracleParams, paus_params: PAUSParams) -> tuple[Point, Point]:\n",
    "    # update_composite_MP_jit = jax.jit(update_composite_MP)\n",
    "    F_z_k, F1_z_k = oracle(z_k, oracle_params)\n",
    "    G_z_k = F_z_k - F1_z_k\n",
    "    eta = 1 / (2 * paus_params.gamma * paus_params.L_F1)\n",
    "    for _ in range(paus_params.composite_steps):\n",
    "        u_k = update_composite_MP(z_k, u_k, G_z_k, oracle_params, paus_params.gamma, eta)\n",
    "    F_u_k, F1_u_k = oracle(u_k, oracle_params)\n",
    "    G_u_k = F_u_k - F1_u_k\n",
    "    G = G_u_k - G_z_k\n",
    "    z_k = Point(\n",
    "        projection_simplex_vmap(u_k.x * jnp.exp(-paus_params.gamma * G.x)),\n",
    "        jaxopt.projection.projection_simplex(u_k.p * jnp.exp(-paus_params.gamma * G.p)),\n",
    "        jaxopt.projection.projection_linf_ball(u_k.u - paus_params.gamma * G.u),\n",
    "        jaxopt.projection.projection_linf_ball(u_k.v - paus_params.gamma * G.v),\n",
    "    )\n",
    "    return z_k, u_k"
   ]
  },
  {
   "cell_type": "code",
   "execution_count": 40,
   "metadata": {},
   "outputs": [],
   "source": [
    "update_paus_jit = jax.jit(update_paus)"
   ]
  },
  {
   "cell_type": "code",
   "execution_count": 61,
   "metadata": {},
   "outputs": [
    {
     "ename": "XlaRuntimeError",
     "evalue": "UNKNOWN: /Users/michael/Documents/PAUS/env/lib/python3.11/site-packages/jaxopt/_src/projection.py:101:13: error: failed to legalize operation 'mhlo.pad'\n  cumsum_u = jnp.cumsum(u)\n            ^\n/Users/michael/Documents/PAUS/env/lib/python3.11/site-packages/jaxopt/_src/projection.py:101:13: note: called from\n  cumsum_u = jnp.cumsum(u)\n            ^\n/Users/michael/Documents/PAUS/env/lib/python3.11/site-packages/jaxopt/_src/projection.py:101:13: note: see current operation: %235 = \"mhlo.pad\"(%234, %1) {edge_padding_high = dense<[0, 1]> : tensor<2xi64>, edge_padding_low = dense<0> : tensor<2xi64>, interior_padding = dense<[0, 1]> : tensor<2xi64>} : (tensor<10x1xf32>, tensor<f32>) -> tensor<10x2xf32>\n  cumsum_u = jnp.cumsum(u)\n            ^\n",
     "output_type": "error",
     "traceback": [
      "\u001b[0;31m---------------------------------------------------------------------------\u001b[0m",
      "\u001b[0;31mXlaRuntimeError\u001b[0m                           Traceback (most recent call last)",
      "Cell \u001b[0;32mIn[61], line 3\u001b[0m\n\u001b[1;32m      1\u001b[0m z_k, u_k \u001b[39m=\u001b[39m init(oracle_params), init(oracle_params)\n\u001b[1;32m      2\u001b[0m \u001b[39mfor\u001b[39;00m _ \u001b[39min\u001b[39;00m \u001b[39mrange\u001b[39m(\u001b[39m100\u001b[39m):\n\u001b[0;32m----> 3\u001b[0m     z_k, u_k \u001b[39m=\u001b[39m update_paus(z_k, u_k, oracle_params, paus_params)\n",
      "Cell \u001b[0;32mIn[49], line 7\u001b[0m, in \u001b[0;36mupdate_paus\u001b[0;34m(z_k, u_k, oracle_params, paus_params)\u001b[0m\n\u001b[1;32m      5\u001b[0m eta \u001b[39m=\u001b[39m \u001b[39m1\u001b[39m \u001b[39m/\u001b[39m (\u001b[39m2\u001b[39m \u001b[39m*\u001b[39m paus_params\u001b[39m.\u001b[39mgamma \u001b[39m*\u001b[39m paus_params\u001b[39m.\u001b[39mL_F1)\n\u001b[1;32m      6\u001b[0m \u001b[39mfor\u001b[39;00m _ \u001b[39min\u001b[39;00m \u001b[39mrange\u001b[39m(paus_params\u001b[39m.\u001b[39mcomposite_steps):\n\u001b[0;32m----> 7\u001b[0m     u_k \u001b[39m=\u001b[39m update_composite_MP(z_k, u_k, G_z_k, oracle_params, paus_params\u001b[39m.\u001b[39;49mgamma, eta)\n\u001b[1;32m      8\u001b[0m F_u_k, F1_u_k \u001b[39m=\u001b[39m oracle(u_k, oracle_params)\n\u001b[1;32m      9\u001b[0m G_u_k \u001b[39m=\u001b[39m F_u_k \u001b[39m-\u001b[39m F1_u_k\n",
      "Cell \u001b[0;32mIn[38], line 7\u001b[0m, in \u001b[0;36mupdate_composite_MP\u001b[0;34m(z_k, v_t, G_z_k, oracle_params, gamma, eta)\u001b[0m\n\u001b[1;32m      4\u001b[0m _, F1_v_t \u001b[39m=\u001b[39m oracle(v_t, oracle_params)\n\u001b[1;32m      5\u001b[0m G_t \u001b[39m=\u001b[39m F1_v_t \u001b[39m+\u001b[39m G_z_k\n\u001b[1;32m      6\u001b[0m v_t_next \u001b[39m=\u001b[39m Point(\n\u001b[0;32m----> 7\u001b[0m     projection_simplex_vmap(z_k\u001b[39m.\u001b[39;49mx \u001b[39m*\u001b[39;49m jnp\u001b[39m.\u001b[39;49mpower(jnp\u001b[39m.\u001b[39;49mexp(\u001b[39m-\u001b[39;49mgamma \u001b[39m*\u001b[39;49m eta \u001b[39m*\u001b[39;49m G_t\u001b[39m.\u001b[39;49mx) \u001b[39m*\u001b[39;49m v_t\u001b[39m.\u001b[39;49mx \u001b[39m/\u001b[39;49m z_k\u001b[39m.\u001b[39;49mx, \u001b[39m1\u001b[39;49m \u001b[39m/\u001b[39;49m (eta \u001b[39m+\u001b[39;49m \u001b[39m1\u001b[39;49m))),\n\u001b[1;32m      8\u001b[0m     jaxopt\u001b[39m.\u001b[39mprojection\u001b[39m.\u001b[39mprojection_simplex(\n\u001b[1;32m      9\u001b[0m         z_k\u001b[39m.\u001b[39mp \u001b[39m*\u001b[39m jnp\u001b[39m.\u001b[39mpower(jnp\u001b[39m.\u001b[39mexp(\u001b[39m-\u001b[39mgamma \u001b[39m*\u001b[39m eta \u001b[39m*\u001b[39m G_t\u001b[39m.\u001b[39mp) \u001b[39m*\u001b[39m v_t\u001b[39m.\u001b[39mp \u001b[39m/\u001b[39m z_k\u001b[39m.\u001b[39mp, \u001b[39m1\u001b[39m \u001b[39m/\u001b[39m (eta \u001b[39m+\u001b[39m \u001b[39m1\u001b[39m))\n\u001b[1;32m     10\u001b[0m     ),\n\u001b[1;32m     11\u001b[0m     jaxopt\u001b[39m.\u001b[39mprojection\u001b[39m.\u001b[39mprojection_linf_ball(\u001b[39m0.5\u001b[39m \u001b[39m*\u001b[39m (z_k\u001b[39m.\u001b[39mu \u001b[39m+\u001b[39m v_t\u001b[39m.\u001b[39mu \u001b[39m-\u001b[39m gamma \u001b[39m*\u001b[39m eta \u001b[39m*\u001b[39m G_t\u001b[39m.\u001b[39mu)),\n\u001b[1;32m     12\u001b[0m     jaxopt\u001b[39m.\u001b[39mprojection\u001b[39m.\u001b[39mprojection_linf_ball(\u001b[39m0.5\u001b[39m \u001b[39m*\u001b[39m (z_k\u001b[39m.\u001b[39mv \u001b[39m+\u001b[39m v_t\u001b[39m.\u001b[39mv \u001b[39m-\u001b[39m gamma \u001b[39m*\u001b[39m eta \u001b[39m*\u001b[39m G_t\u001b[39m.\u001b[39mv)),\n\u001b[1;32m     13\u001b[0m )\n\u001b[1;32m     15\u001b[0m G_t_next \u001b[39m=\u001b[39m oracle(v_t_next, oracle_params) \u001b[39m+\u001b[39m G_z_k\n\u001b[1;32m     16\u001b[0m v_t \u001b[39m=\u001b[39m Point(\n\u001b[1;32m     17\u001b[0m     projection_simplex_vmap(z_k\u001b[39m.\u001b[39mx \u001b[39m*\u001b[39m jnp\u001b[39m.\u001b[39mpower(jnp\u001b[39m.\u001b[39mexp(\u001b[39m-\u001b[39mgamma \u001b[39m*\u001b[39m eta \u001b[39m*\u001b[39m G_t_next\u001b[39m.\u001b[39mx) \u001b[39m*\u001b[39m v_t\u001b[39m.\u001b[39mx \u001b[39m/\u001b[39m z_k\u001b[39m.\u001b[39mx, \u001b[39m1\u001b[39m \u001b[39m/\u001b[39m (eta \u001b[39m+\u001b[39m \u001b[39m1\u001b[39m))),\n\u001b[1;32m     18\u001b[0m     jaxopt\u001b[39m.\u001b[39mprojection\u001b[39m.\u001b[39mprojection_simplex(\n\u001b[0;32m   (...)\u001b[0m\n\u001b[1;32m     22\u001b[0m     jaxopt\u001b[39m.\u001b[39mprojection\u001b[39m.\u001b[39mprojection_linf_ball(\u001b[39m0.5\u001b[39m \u001b[39m*\u001b[39m (z_k\u001b[39m.\u001b[39mv \u001b[39m+\u001b[39m v_t\u001b[39m.\u001b[39mv \u001b[39m-\u001b[39m gamma \u001b[39m*\u001b[39m eta \u001b[39m*\u001b[39m G_t\u001b[39m.\u001b[39mv)),\n\u001b[1;32m     23\u001b[0m )\n",
      "    \u001b[0;31m[... skipping hidden 3 frame]\u001b[0m\n",
      "Cell \u001b[0;32mIn[56], line 3\u001b[0m, in \u001b[0;36mprojection_simplex\u001b[0;34m(x)\u001b[0m\n\u001b[1;32m      1\u001b[0m \u001b[39mdef\u001b[39;00m \u001b[39mprojection_simplex\u001b[39m(x: jnp\u001b[39m.\u001b[39mndarray) \u001b[39m-\u001b[39m\u001b[39m>\u001b[39m jnp\u001b[39m.\u001b[39mndarray:\n\u001b[1;32m      2\u001b[0m     orig_shape \u001b[39m=\u001b[39m x\u001b[39m.\u001b[39mshape\n\u001b[0;32m----> 3\u001b[0m     \u001b[39mreturn\u001b[39;00m jaxopt\u001b[39m.\u001b[39;49mprojection\u001b[39m.\u001b[39;49mprojection_simplex(x\u001b[39m.\u001b[39;49mflatten())\u001b[39m.\u001b[39mreshape(orig_shape)\n",
      "File \u001b[0;32m~/Documents/PAUS/env/lib/python3.11/site-packages/jaxopt/_src/projection.py:137\u001b[0m, in \u001b[0;36mprojection_simplex\u001b[0;34m(x, value)\u001b[0m\n\u001b[1;32m    135\u001b[0m \u001b[39mif\u001b[39;00m value \u001b[39mis\u001b[39;00m \u001b[39mNone\u001b[39;00m:\n\u001b[1;32m    136\u001b[0m   value \u001b[39m=\u001b[39m \u001b[39m1.0\u001b[39m\n\u001b[0;32m--> 137\u001b[0m \u001b[39mreturn\u001b[39;00m value \u001b[39m*\u001b[39m _projection_unit_simplex(x \u001b[39m/\u001b[39;49m value)\n",
      "    \u001b[0;31m[... skipping hidden 7 frame]\u001b[0m\n",
      "File \u001b[0;32m~/Documents/PAUS/env/lib/python3.11/site-packages/jaxopt/_src/projection.py:101\u001b[0m, in \u001b[0;36m_projection_unit_simplex\u001b[0;34m(x)\u001b[0m\n\u001b[1;32m     99\u001b[0m n_features \u001b[39m=\u001b[39m x\u001b[39m.\u001b[39mshape[\u001b[39m0\u001b[39m]\n\u001b[1;32m    100\u001b[0m u \u001b[39m=\u001b[39m jnp\u001b[39m.\u001b[39msort(x)[::\u001b[39m-\u001b[39m\u001b[39m1\u001b[39m]\n\u001b[0;32m--> 101\u001b[0m cumsum_u \u001b[39m=\u001b[39m jnp\u001b[39m.\u001b[39;49mcumsum(u)\n\u001b[1;32m    102\u001b[0m ind \u001b[39m=\u001b[39m jnp\u001b[39m.\u001b[39marange(n_features) \u001b[39m+\u001b[39m \u001b[39m1\u001b[39m\n\u001b[1;32m    103\u001b[0m cond \u001b[39m=\u001b[39m s \u001b[39m/\u001b[39m ind \u001b[39m+\u001b[39m (u \u001b[39m-\u001b[39m cumsum_u \u001b[39m/\u001b[39m ind) \u001b[39m>\u001b[39m \u001b[39m0\u001b[39m\n",
      "File \u001b[0;32m~/Documents/PAUS/env/lib/python3.11/site-packages/jax/_src/numpy/reductions.py:657\u001b[0m, in \u001b[0;36m_make_cumulative_reduction.<locals>.cumulative_reduction\u001b[0;34m(a, axis, dtype, out)\u001b[0m\n\u001b[1;32m    654\u001b[0m \u001b[39m@_wraps\u001b[39m(np_reduction, skip_params\u001b[39m=\u001b[39m[\u001b[39m'\u001b[39m\u001b[39mout\u001b[39m\u001b[39m'\u001b[39m])\n\u001b[1;32m    655\u001b[0m \u001b[39mdef\u001b[39;00m \u001b[39mcumulative_reduction\u001b[39m(a: ArrayLike, axis: Axis \u001b[39m=\u001b[39m \u001b[39mNone\u001b[39;00m,\n\u001b[1;32m    656\u001b[0m                          dtype: Optional[DTypeLike] \u001b[39m=\u001b[39m \u001b[39mNone\u001b[39;00m, out: \u001b[39mNone\u001b[39;00m \u001b[39m=\u001b[39m \u001b[39mNone\u001b[39;00m) \u001b[39m-\u001b[39m\u001b[39m>\u001b[39m Array:\n\u001b[0;32m--> 657\u001b[0m   \u001b[39mreturn\u001b[39;00m _cumulative_reduction(a, _ensure_optional_axes(axis), dtype, out)\n",
      "    \u001b[0;31m[... skipping hidden 18 frame]\u001b[0m\n",
      "File \u001b[0;32m~/Documents/PAUS/env/lib/python3.11/site-packages/jax/_src/compiler.py:255\u001b[0m, in \u001b[0;36mbackend_compile\u001b[0;34m(backend, module, options, host_callbacks)\u001b[0m\n\u001b[1;32m    250\u001b[0m   \u001b[39mreturn\u001b[39;00m backend\u001b[39m.\u001b[39mcompile(built_c, compile_options\u001b[39m=\u001b[39moptions,\n\u001b[1;32m    251\u001b[0m                          host_callbacks\u001b[39m=\u001b[39mhost_callbacks)\n\u001b[1;32m    252\u001b[0m \u001b[39m# Some backends don't have `host_callbacks` option yet\u001b[39;00m\n\u001b[1;32m    253\u001b[0m \u001b[39m# TODO(sharadmv): remove this fallback when all backends allow `compile`\u001b[39;00m\n\u001b[1;32m    254\u001b[0m \u001b[39m# to take in `host_callbacks`\u001b[39;00m\n\u001b[0;32m--> 255\u001b[0m \u001b[39mreturn\u001b[39;00m backend\u001b[39m.\u001b[39;49mcompile(built_c, compile_options\u001b[39m=\u001b[39;49moptions)\n",
      "\u001b[0;31mXlaRuntimeError\u001b[0m: UNKNOWN: /Users/michael/Documents/PAUS/env/lib/python3.11/site-packages/jaxopt/_src/projection.py:101:13: error: failed to legalize operation 'mhlo.pad'\n  cumsum_u = jnp.cumsum(u)\n            ^\n/Users/michael/Documents/PAUS/env/lib/python3.11/site-packages/jaxopt/_src/projection.py:101:13: note: called from\n  cumsum_u = jnp.cumsum(u)\n            ^\n/Users/michael/Documents/PAUS/env/lib/python3.11/site-packages/jaxopt/_src/projection.py:101:13: note: see current operation: %235 = \"mhlo.pad\"(%234, %1) {edge_padding_high = dense<[0, 1]> : tensor<2xi64>, edge_padding_low = dense<0> : tensor<2xi64>, interior_padding = dense<[0, 1]> : tensor<2xi64>} : (tensor<10x1xf32>, tensor<f32>) -> tensor<10x2xf32>\n  cumsum_u = jnp.cumsum(u)\n            ^\n"
     ]
    }
   ],
   "source": [
    "z_k, u_k = init(oracle_params), init(oracle_params)\n",
    "for _ in range(100):\n",
    "    z_k, u_k = update_paus(z_k, u_k, oracle_params, paus_params)"
   ]
  }
 ],
 "metadata": {
  "kernelspec": {
   "display_name": "env",
   "language": "python",
   "name": "python3"
  },
  "language_info": {
   "codemirror_mode": {
    "name": "ipython",
    "version": 3
   },
   "file_extension": ".py",
   "mimetype": "text/x-python",
   "name": "python",
   "nbconvert_exporter": "python",
   "pygments_lexer": "ipython3",
   "version": "3.11.6"
  },
  "orig_nbformat": 4
 },
 "nbformat": 4,
 "nbformat_minor": 2
}
